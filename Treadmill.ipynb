{
 "cells": [
  {
   "cell_type": "code",
   "execution_count": 7,
   "metadata": {},
   "outputs": [],
   "source": [
    "import tensorflow as tf\n",
    "import numpy as np\n",
    "from sklearn.neighbors import KNeighborsClassifier \n",
    "import pandas as pd\n",
    "import matplotlib.pyplot as plt"
   ]
  },
  {
   "cell_type": "code",
   "execution_count": 8,
   "metadata": {},
   "outputs": [
    {
     "data": {
      "text/html": [
       "<div>\n",
       "<style scoped>\n",
       "    .dataframe tbody tr th:only-of-type {\n",
       "        vertical-align: middle;\n",
       "    }\n",
       "\n",
       "    .dataframe tbody tr th {\n",
       "        vertical-align: top;\n",
       "    }\n",
       "\n",
       "    .dataframe thead th {\n",
       "        text-align: right;\n",
       "    }\n",
       "</style>\n",
       "<table border=\"1\" class=\"dataframe\">\n",
       "  <thead>\n",
       "    <tr style=\"text-align: right;\">\n",
       "      <th></th>\n",
       "      <th>treadmill level</th>\n",
       "      <th>HR</th>\n",
       "      <th>respiration</th>\n",
       "      <th>intensity</th>\n",
       "    </tr>\n",
       "  </thead>\n",
       "  <tbody>\n",
       "    <tr>\n",
       "      <th>0</th>\n",
       "      <td>1.0</td>\n",
       "      <td>86</td>\n",
       "      <td>4</td>\n",
       "      <td>1</td>\n",
       "    </tr>\n",
       "    <tr>\n",
       "      <th>1</th>\n",
       "      <td>1.0</td>\n",
       "      <td>86</td>\n",
       "      <td>4</td>\n",
       "      <td>1</td>\n",
       "    </tr>\n",
       "    <tr>\n",
       "      <th>2</th>\n",
       "      <td>1.0</td>\n",
       "      <td>94</td>\n",
       "      <td>10</td>\n",
       "      <td>1</td>\n",
       "    </tr>\n",
       "    <tr>\n",
       "      <th>3</th>\n",
       "      <td>1.0</td>\n",
       "      <td>94</td>\n",
       "      <td>10</td>\n",
       "      <td>1</td>\n",
       "    </tr>\n",
       "    <tr>\n",
       "      <th>4</th>\n",
       "      <td>1.0</td>\n",
       "      <td>100</td>\n",
       "      <td>7</td>\n",
       "      <td>1</td>\n",
       "    </tr>\n",
       "  </tbody>\n",
       "</table>\n",
       "</div>"
      ],
      "text/plain": [
       "   treadmill level   HR  respiration  intensity\n",
       "0              1.0   86            4          1\n",
       "1              1.0   86            4          1\n",
       "2              1.0   94           10          1\n",
       "3              1.0   94           10          1\n",
       "4              1.0  100            7          1"
      ]
     },
     "execution_count": 8,
     "metadata": {},
     "output_type": "execute_result"
    }
   ],
   "source": [
    "my_data = pd.read_csv('runeva.csv')\n",
    "my_data.head()"
   ]
  },
  {
   "cell_type": "code",
   "execution_count": 10,
   "metadata": {},
   "outputs": [
    {
     "name": "stdout",
     "output_type": "stream",
     "text": [
      "treadmill level    float64\n",
      "HR                   int64\n",
      "respiration          int64\n",
      "intensity            int64\n",
      "dtype: object\n"
     ]
    }
   ],
   "source": [
    "print(my_data.dtypes)"
   ]
  },
  {
   "cell_type": "code",
   "execution_count": 11,
   "metadata": {},
   "outputs": [
    {
     "name": "stdout",
     "output_type": "stream",
     "text": [
      "       treadmill level           HR  respiration    intensity\n",
      "count      1272.000000  1272.000000  1272.000000  1272.000000\n",
      "mean          2.471698   109.988208    11.385220     1.970912\n",
      "std           0.704990    10.042742     2.363711     0.723835\n",
      "min           1.000000    24.000000     0.000000     1.000000\n",
      "25%           2.000000   105.000000    10.000000     1.000000\n",
      "50%           2.400000   111.000000    12.000000     2.000000\n",
      "75%           3.000000   116.000000    13.000000     2.000000\n",
      "max           3.800000   126.000000    16.000000     3.000000\n"
     ]
    }
   ],
   "source": [
    "print(my_data.describe())"
   ]
  },
  {
   "cell_type": "code",
   "execution_count": 12,
   "metadata": {},
   "outputs": [
    {
     "data": {
      "image/png": "[encoded data removed]",
      "text/plain": [
       "<Figure size 432x288 with 1 Axes>"
      ]
     },
     "metadata": {},
     "output_type": "display_data"
    }
   ],
   "source": [
    "my_data['intensity'].hist()\n",
    "plt.ylabel('Number')\n",
    "plt.xlabel('Intensity')\n",
    "plt.show()"
   ]
  },
  {
   "cell_type": "code",
   "execution_count": 18,
   "metadata": {},
   "outputs": [],
   "source": [
    "data = my_data.loc[:,['treadmill level','HR','respiration']]\n",
    "label = my_data.loc[:,'intensity']"
   ]
  },
  {
   "cell_type": "code",
   "execution_count": 19,
   "metadata": {},
   "outputs": [],
   "source": [
    "from sklearn.model_selection import train_test_split\n",
    "train_data,test_data,train_labels,test_labels=train_test_split(data,label,random_state=0,test_size=0.2)"
   ]
  },
  {
   "cell_type": "code",
   "execution_count": 20,
   "metadata": {},
   "outputs": [
    {
     "name": "stdout",
     "output_type": "stream",
     "text": [
      "(1017, 3) (255, 3) (1017,) (255,)\n"
     ]
    }
   ],
   "source": [
    "print(train_data.shape, test_data.shape, train_labels.shape, test_labels.shape)"
   ]
  },
  {
   "cell_type": "code",
   "execution_count": 24,
   "metadata": {},
   "outputs": [
    {
     "name": "stdout",
     "output_type": "stream",
     "text": [
      "K= 1\n",
      "0.9294117647058824\n",
      "K= 2\n",
      "0.8823529411764706\n",
      "K= 3\n",
      "0.8666666666666667\n",
      "K= 4\n",
      "0.8588235294117647\n",
      "K= 5\n",
      "0.8705882352941177\n",
      "K= 6\n",
      "0.8588235294117647\n",
      "K= 7\n",
      "0.8549019607843137\n",
      "K= 8\n",
      "0.8509803921568627\n",
      "K= 9\n",
      "0.8666666666666667\n",
      "K= 10\n",
      "0.8509803921568627\n",
      "K= 11\n",
      "0.8588235294117647\n",
      "K= 12\n",
      "0.8509803921568627\n",
      "K= 13\n",
      "0.8588235294117647\n",
      "K= 14\n",
      "0.8588235294117647\n",
      "K= 15\n",
      "0.8666666666666667\n",
      "K= 16\n",
      "0.8666666666666667\n",
      "K= 17\n",
      "0.8627450980392157\n",
      "K= 18\n",
      "0.8627450980392157\n",
      "K= 19\n",
      "0.8666666666666667\n",
      "K= 20\n",
      "0.8666666666666667\n",
      "K= 21\n",
      "0.8705882352941177\n",
      "K= 22\n",
      "0.8705882352941177\n",
      "K= 23\n",
      "0.8745098039215686\n",
      "K= 24\n",
      "0.8705882352941177\n",
      "K= 25\n",
      "0.8705882352941177\n",
      "K= 26\n",
      "0.8705882352941177\n",
      "K= 27\n",
      "0.8705882352941177\n",
      "K= 28\n",
      "0.8627450980392157\n",
      "K= 29\n",
      "0.8666666666666667\n",
      "K= 30\n",
      "0.8666666666666667\n",
      "K= 31\n",
      "0.8627450980392157\n",
      "K= 32\n",
      "0.8549019607843137\n",
      "K= 33\n",
      "0.8549019607843137\n",
      "K= 34\n",
      "0.8470588235294118\n",
      "K= 35\n",
      "0.8509803921568627\n",
      "K= 36\n",
      "0.8470588235294118\n",
      "K= 37\n",
      "0.8470588235294118\n",
      "K= 38\n",
      "0.8470588235294118\n",
      "K= 39\n",
      "0.8470588235294118\n",
      "K= 40\n",
      "0.8509803921568627\n",
      "K= 41\n",
      "0.8470588235294118\n",
      "K= 42\n",
      "0.8470588235294118\n",
      "K= 43\n",
      "0.8470588235294118\n",
      "K= 44\n",
      "0.8509803921568627\n",
      "K= 45\n",
      "0.8509803921568627\n",
      "K= 46\n",
      "0.8549019607843137\n",
      "K= 47\n",
      "0.8588235294117647\n",
      "K= 48\n",
      "0.8549019607843137\n",
      "K= 49\n",
      "0.8549019607843137\n",
      "K= 50\n",
      "0.8509803921568627\n"
     ]
    }
   ],
   "source": [
    "from sklearn.metrics import accuracy_score\n",
    "k_range = range(1, 51)\n",
    "k_scores =[]\n",
    "for K in k_range:\n",
    "    clf=KNeighborsClassifier(n_neighbors = K)\n",
    "    clf.fit(train_data,train_labels)\n",
    "    print('K=', K)\n",
    "    predictions=clf.predict(test_data)\n",
    "    score = accuracy_score(test_labels,predictions)\n",
    "    print(score)\n",
    "    k_scores.append(score)"
   ]
  },
  {
   "cell_type": "code",
   "execution_count": 25,
   "metadata": {},
   "outputs": [
    {
     "data": {
      "image/png": "[encoded data removed]",
      "text/plain": [
       "<Figure size 432x288 with 1 Axes>"
      ]
     },
     "metadata": {},
     "output_type": "display_data"
    },
    {
     "name": "stdout",
     "output_type": "stream",
     "text": [
      "[37 36 35 33 40 41 42 38 49 34 43 44 39 11  9  7  6 47 32 45 31 48  3 46\n",
      "  5 12 13 10 27 30 17 16 28 29 18 15  2 14  8 19 24 25 23 21 20  4 26 22\n",
      "  1  0]\n"
     ]
    }
   ],
   "source": [
    "plt.plot(k_range, k_scores)\n",
    "plt.xlabel('K for KNN')\n",
    "plt.ylabel('Accuracy on validation set')\n",
    "plt.show()\n",
    "print(np.array(k_scores).argsort())"
   ]
  },
  {
   "cell_type": "code",
   "execution_count": 27,
   "metadata": {},
   "outputs": [
    {
     "data": {
      "text/plain": [
       "KNeighborsClassifier(algorithm='auto', leaf_size=30, metric='minkowski',\n",
       "           metric_params=None, n_jobs=1, n_neighbors=1, p=2,\n",
       "           weights='uniform')"
      ]
     },
     "execution_count": 27,
     "metadata": {},
     "output_type": "execute_result"
    }
   ],
   "source": [
    "clf=KNeighborsClassifier(n_neighbors=1)\n",
    "clf.fit(data,label)\n"
   ]
  },
  {
   "cell_type": "code",
   "execution_count": null,
   "metadata": {},
   "outputs": [],
   "source": []
  }
 ],
 "metadata": {
  "kernelspec": {
   "display_name": "Python 3",
   "language": "python",
   "name": "python3"
  },
  "language_info": {
   "codemirror_mode": {
    "name": "ipython",
    "version": 3
   },
   "file_extension": ".py",
   "mimetype": "text/x-python",
   "name": "python",
   "nbconvert_exporter": "python",
   "pygments_lexer": "ipython3",
   "version": "3.5.5"
  }
 },
 "nbformat": 4,
 "nbformat_minor": 2
}
